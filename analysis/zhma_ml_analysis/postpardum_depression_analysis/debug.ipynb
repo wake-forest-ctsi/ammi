{
 "cells": [
  {
   "cell_type": "code",
   "execution_count": 3,
   "id": "fdaa1d4f",
   "metadata": {},
   "outputs": [],
   "source": [
    "from sklearn.ensemble import RandomForestClassifier\n",
    "import numpy as np\n",
    "import pandas as pd"
   ]
  },
  {
   "cell_type": "code",
   "execution_count": null,
   "id": "a3a933c2",
   "metadata": {},
   "outputs": [],
   "source": [
    "dat = pd.DataFrame({\n",
    "    \"a\": [1,2,3,4,5,6], \n",
    "    \"b\": [2,3,4,5,6,7],\n",
    "    \"target\":[1,1,0,1,1,0]\n",
    "})"
   ]
  },
  {
   "cell_type": "code",
   "execution_count": null,
   "id": "3042f71a",
   "metadata": {},
   "outputs": [],
   "source": [
    "clf = RandomForestClassifier()\n",
    "clf.fit(dat['a'], dat['target'])"
   ]
  }
 ],
 "metadata": {
  "kernelspec": {
   "display_name": ".venv",
   "language": "python",
   "name": "python3"
  },
  "language_info": {
   "codemirror_mode": {
    "name": "ipython",
    "version": 3
   },
   "file_extension": ".py",
   "mimetype": "text/x-python",
   "name": "python",
   "nbconvert_exporter": "python",
   "pygments_lexer": "ipython3",
   "version": "3.12.3"
  }
 },
 "nbformat": 4,
 "nbformat_minor": 5
}
