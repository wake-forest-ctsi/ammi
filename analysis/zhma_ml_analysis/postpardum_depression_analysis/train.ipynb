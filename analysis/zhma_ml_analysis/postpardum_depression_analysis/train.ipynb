{
 "cells": [
  {
   "cell_type": "code",
   "execution_count": 1,
   "id": "8437f997",
   "metadata": {},
   "outputs": [],
   "source": [
    "import pandas as pd\n",
    "import numpy as np\n",
    "from sklearn.ensemble import RandomForestClassifier\n",
    "from sklearn.model_selection import GridSearchCV, StratifiedKFold, train_test_split\n",
    "from sklearn.metrics import recall_score, make_scorer, roc_auc_score\n",
    "import os\n",
    "import pickle\n",
    "from dotenv import load_dotenv\n",
    "\n",
    "load_dotenv(override=True)\n",
    "specificity = make_scorer(recall_score, pos_label=0)"
   ]
  },
  {
   "cell_type": "code",
   "execution_count": 2,
   "id": "51677bc5",
   "metadata": {},
   "outputs": [
    {
     "data": {
      "text/plain": [
       "(14334, 432)"
      ]
     },
     "execution_count": 2,
     "metadata": {},
     "output_type": "execute_result"
    }
   ],
   "source": [
    "dat = pd.read_parquet(os.getenv('TRAIN_PARQUET'))\n",
    "dat.shape"
   ]
  },
  {
   "cell_type": "code",
   "execution_count": 3,
   "id": "a56d85f2",
   "metadata": {},
   "outputs": [
    {
     "name": "stdout",
     "output_type": "stream",
     "text": [
      "dropping 26 of census tract columns\n",
      "found columns with NaN: bmi, NaN number = 407, dropping these patients\n",
      "found columns with NaN: mother_age, NaN number = 43, dropping these patients\n",
      "found columns with NaN: mother_height, NaN number = 623, dropping these patients\n",
      "found columns with NaN: smoking, NaN number = 8, dropping these patients\n",
      "found columns with NaN: tobacco, NaN number = 8, dropping these patients\n",
      "removing patients without prenatal and postpartum visit 1316\n",
      "dropping columns: counts_of_visits_3m_after_delivery, counts_of_visits_6m_after_delivery\n",
      "removing patients without screening using edinburgh or phq9 3290\n",
      "removing columns: 'F53_label','edinburgh_max','phq9_total_max', 'PPD_delete_label'\n"
     ]
    },
    {
     "data": {
      "text/plain": [
       "(8994, 402)"
      ]
     },
     "execution_count": 3,
     "metadata": {},
     "output_type": "execute_result"
    }
   ],
   "source": [
    "from preprocess import preprocess\n",
    "\n",
    "preprocess(dat)\n",
    "dat.shape"
   ]
  },
  {
   "cell_type": "code",
   "execution_count": null,
   "id": "857ec6a2",
   "metadata": {},
   "outputs": [],
   "source": [
    "# check to make sure there is no NaN before continuing\n",
    "dat.isna().mean().sort_values(ascending=False)"
   ]
  },
  {
   "cell_type": "code",
   "execution_count": null,
   "id": "c53d085c",
   "metadata": {},
   "outputs": [],
   "source": [
    "# fix to use F53 or edinburgh_max or phq9\n",
    "\n",
    "# use only patients been screened\n",
    "dat_selected = dat[ (dat['edinburgh_max'].isna() == False) | (dat['phq9_total_max'].isna() == False)].copy()\n",
    "\n",
    "# set up the X, y for model fitting\n",
    "X = dat_selected.drop(columns=['F53_label','edinburgh_max','phq9_total_max', 'birthid', 'PPD_delete_label'])\n",
    "y = np.where( (dat_selected['edinburgh_max'] >= 10) | \n",
    "              (dat_selected['phq9_total_max'] >= 10) | \n",
    "              (dat_selected['F53_label'] == 1), 1, 0)"
   ]
  },
  {
   "cell_type": "code",
   "execution_count": null,
   "id": "e738de3e",
   "metadata": {},
   "outputs": [],
   "source": [
    "# set up the model\n",
    "# the param range should be okay, but check the best_params from get_many_acus to make sure\n",
    "clf = GridSearchCV(RandomForestClassifier(class_weight='balanced', random_state=42, n_estimators=200),\n",
    "                   param_grid={'min_samples_split': [10,15,20,25,30,50,70,100,120,150,170,200]},\n",
    "                   verbose=3,\n",
    "                   scoring={'f1':'f1',\n",
    "                            'roc_auc':'roc_auc',\n",
    "                            'sensitivity':'recall',\n",
    "                            'precision':'precision',\n",
    "                            'specificity': specificity},\n",
    "                   cv=StratifiedKFold(n_splits=5, shuffle=True, random_state=42),\n",
    "                   refit='roc_auc')"
   ]
  },
  {
   "cell_type": "code",
   "execution_count": null,
   "id": "2e0a54ed",
   "metadata": {},
   "outputs": [],
   "source": [
    "from collections import defaultdict\n",
    "\n",
    "aucs = defaultdict(list)\n",
    "specs = defaultdict(list)\n",
    "sens = defaultdict(list)\n",
    "race_cols = ['all', 'mother_is_black', 'mother_is_hispanic', 'mother_is_white']\n",
    "\n",
    "def get_many_aucs(X, y, nseeds=1):\n",
    "    for seed in range(nseeds):\n",
    "        X_train, X_test, y_train, y_test = train_test_split(X, y, test_size=0.2, random_state=seed)\n",
    "        \n",
    "        clf.verbose = 0\n",
    "        clf.fit(X_train, y_train)\n",
    "        print(clf.best_params_, clf.best_score_)\n",
    "\n",
    "        y_pred_prob = clf.predict_proba(X_test)\n",
    "        y_pred = clf.predict(X_test)\n",
    "        aucs['all'].append(roc_auc_score(y_test, y_pred_prob[:, 1]))\n",
    "        specs['all'].append(recall_score(y_test, y_pred, pos_label=0))\n",
    "        sens['all'].append(recall_score(y_test, y_pred))\n",
    "    \n",
    "        # also calculate the performance among different races here\n",
    "        for col in race_cols:\n",
    "            if col == 'all':\n",
    "                y_test_selected = y_test[idx]\n",
    "                y_pred_selected = y_pred[idx]\n",
    "                y_pred_prob_selected = y_pred_prob[idx]\n",
    "            else:\n",
    "                idx = (X_test[col] == 1)\n",
    "                y_test_selected = y_test[idx]\n",
    "                y_pred_selected = y_pred[idx]\n",
    "                y_pred_prob_selected = y_pred_prob[idx]\n",
    "            aucs[col].append(roc_auc_score(y_test_selected, y_pred_prob_selected[:, 1]))\n",
    "            specs[col].append(recall_score(y_test_selected, y_pred_selected, pos_label=0))\n",
    "            sens[col].append(recall_score(y_test_selected, y_pred_selected))\n",
    "\n",
    "    for col in race_cols:\n",
    "        print(f\"====== for {col}: ======\")\n",
    "        print('auc= {0:.3f}+-{1:.3f}'.format(np.mean(aucs[col]), np.std(aucs[col])))\n",
    "        print('specificity= {0:.3f}+-{1:.3f}'.format(np.mean(specs[col]), np.std(specs[col])))\n",
    "        print('sensitivity= {0:.3f}+-{1:.3f}'.format(np.mean(sens[col]), np.std(sens[col])))"
   ]
  },
  {
   "cell_type": "code",
   "execution_count": null,
   "id": "3ca7021b",
   "metadata": {},
   "outputs": [],
   "source": [
    "# do the training\n",
    "get_many_aucs(X, y, nseeds=10)"
   ]
  },
  {
   "cell_type": "code",
   "execution_count": null,
   "id": "67d7e0b4",
   "metadata": {},
   "outputs": [],
   "source": [
    "aucs"
   ]
  },
  {
   "cell_type": "code",
   "execution_count": null,
   "id": "4da41bf1",
   "metadata": {},
   "outputs": [],
   "source": [
    "# check the output from get_many_acus to make sure what the best param is for your own data\n",
    "# use 25 for now to get the final model at WFU\n",
    "clf = RandomForestClassifier(class_weight='balanced', random_state=42, n_estimators=200, min_samples_split=25)\n",
    "clf.fit(X, y)"
   ]
  },
  {
   "cell_type": "code",
   "execution_count": null,
   "id": "a9d53911",
   "metadata": {},
   "outputs": [],
   "source": [
    "# save the file\n",
    "with open(os.getenv('ML_MODEL'), 'wb') as fid:\n",
    "    pickle.dump(clf, fid)"
   ]
  }
 ],
 "metadata": {
  "kernelspec": {
   "display_name": ".nlp",
   "language": "python",
   "name": "python3"
  },
  "language_info": {
   "codemirror_mode": {
    "name": "ipython",
    "version": 3
   },
   "file_extension": ".py",
   "mimetype": "text/x-python",
   "name": "python",
   "nbconvert_exporter": "python",
   "pygments_lexer": "ipython3",
   "version": "3.11.0"
  }
 },
 "nbformat": 4,
 "nbformat_minor": 5
}
