{
 "cells": [
  {
   "cell_type": "code",
   "execution_count": null,
   "metadata": {},
   "outputs": [],
   "source": [
    "import pandas as pd\n",
    "import numpy as np\n",
    "import sqlalchemy\n",
    "from sqlqueries_unc_preeclampsia import *\n",
    "import os\n",
    "import dotenv"
   ]
  },
  {
   "cell_type": "markdown",
   "metadata": {},
   "source": [
    "### 1. load bp data"
   ]
  },
  {
   "cell_type": "code",
   "execution_count": null,
   "metadata": {},
   "outputs": [],
   "source": [
    "dotenv.load_dotenv()\n",
    "connection_string = f\"mssql+pymssql://@{os.getenv('HOSTNAME')}/{os.getenv('DATABASE')}\"\n",
    "engine = sqlalchemy.create_engine(connection_string)\n",
    "sql_string = f'''\n",
    "select\n",
    "    *\n",
    "from {os.getenv('DATABASE')}.{os.getenv('SCHEMA')}.rpt_preeclampsia__bp_time_series\n",
    "'''\n",
    "dat = pd.read_sql(sql_string, con=engine)"
   ]
  },
  {
   "cell_type": "code",
   "execution_count": null,
   "metadata": {},
   "outputs": [],
   "source": [
    "dat_with_chtn_any = dat[dat['chtn_any']==1].groupby(['cp_anypree_sf', 'preg_weeks'])[['systolic', 'diastolic']].agg(['mean', 'std']).reset_index()\n",
    "dat_without_chtn_any = dat[dat['chtn_any']==0].groupby(['cp_anypree_sf', 'preg_weeks'])[['systolic', 'diastolic']].agg(['mean', 'std']).reset_index()\n",
    "dat_with_chtn_any"
   ]
  },
  {
   "cell_type": "code",
   "execution_count": null,
   "metadata": {},
   "outputs": [],
   "source": [
    "from matplotlib import pyplot as plt\n",
    "\n",
    "idx = (dat_with_chtn_any['cp_anypree_sf'] == 1)\n",
    "fig, axes = plt.subplots(2,1)\n",
    "axes = axes.flatten()\n",
    "axes[0].plot(dat_with_chtn_any.loc[idx, 'preg_weeks'], dat_with_chtn_any.loc[idx, ('systolic', 'mean')], 'r-', label='cp_anypree_sf=1')\n",
    "axes[0].plot(dat_with_chtn_any.loc[~idx, 'preg_weeks'], dat_with_chtn_any.loc[~idx, ('systolic', 'mean')], 'k-', label='cp_anypree_sf=0')\n",
    "axes[1].plot(dat_with_chtn_any.loc[idx, 'preg_weeks'], dat_with_chtn_any.loc[idx, ('diastolic', 'mean')], 'r-')\n",
    "axes[1].plot(dat_with_chtn_any.loc[~idx, 'preg_weeks'], dat_with_chtn_any.loc[~idx, ('diastolic', 'mean')], 'k-')\n",
    "axes[0].legend()\n",
    "plt.suptitle('chtn_any=1')"
   ]
  },
  {
   "cell_type": "code",
   "execution_count": null,
   "metadata": {},
   "outputs": [],
   "source": [
    "idx = (dat_without_chtn_any['cp_anypree_sf'] == 1)\n",
    "fig, axes = plt.subplots(2,1)\n",
    "axes = axes.flatten()\n",
    "axes[0].plot(dat_without_chtn_any.loc[idx, 'preg_weeks'], dat_without_chtn_any.loc[idx, ('systolic', 'mean')], 'r-', label='cp_anypree_sf=1')\n",
    "axes[0].plot(dat_without_chtn_any.loc[~idx, 'preg_weeks'], dat_without_chtn_any.loc[~idx, ('systolic', 'mean')], 'k-', label='cp_anypree_sf=0')\n",
    "axes[1].plot(dat_without_chtn_any.loc[idx, 'preg_weeks'], dat_without_chtn_any.loc[idx, ('diastolic', 'mean')], 'r-')\n",
    "axes[1].plot(dat_without_chtn_any.loc[~idx, 'preg_weeks'], dat_without_chtn_any.loc[~idx, ('diastolic', 'mean')], 'k-')\n",
    "axes[0].legend()\n",
    "plt.suptitle('chtn_any=0')"
   ]
  },
  {
   "cell_type": "code",
   "execution_count": null,
   "metadata": {},
   "outputs": [],
   "source": [
    "from matplotlib import pyplot as plt\n",
    "\n",
    "idx = (dat_with_chtn_any['cp_anypree_sf'] == 1)\n",
    "plt.errorbar(dat_with_chtn_any.loc[idx, 'preg_weeks'], \n",
    "                dat_with_chtn_any.loc[idx, ('systolic', 'mean')],\n",
    "                dat_with_chtn_any.loc[idx, ('systolic', 'std')],\n",
    "                fmt='r-', label='cp_anypree_sf=1')\n",
    "plt.errorbar(dat_with_chtn_any.loc[~idx, 'preg_weeks'], \n",
    "                dat_with_chtn_any.loc[~idx, ('systolic', 'mean')],\n",
    "                dat_with_chtn_any.loc[~idx, ('systolic', 'std')],\n",
    "                fmt='k-', label='cp_anypree_sf=0')\n",
    "plt.legend()\n",
    "plt.title('chtn_any=1')"
   ]
  }
 ],
 "metadata": {
  "kernelspec": {
   "display_name": ".venv",
   "language": "python",
   "name": "python3"
  },
  "language_info": {
   "codemirror_mode": {
    "name": "ipython",
    "version": 3
   },
   "file_extension": ".py",
   "mimetype": "text/x-python",
   "name": "python",
   "nbconvert_exporter": "python",
   "pygments_lexer": "ipython3",
   "version": "3.12.3"
  }
 },
 "nbformat": 4,
 "nbformat_minor": 5
}
