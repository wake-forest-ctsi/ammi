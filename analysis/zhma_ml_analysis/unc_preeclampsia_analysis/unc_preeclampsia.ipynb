{
 "cells": [
  {
   "cell_type": "code",
   "execution_count": null,
   "metadata": {},
   "outputs": [],
   "source": [
    "import pandas as pd\n",
    "import numpy as np\n",
    "import sqlalchemy\n",
    "from sqlqueries_unc_preeclampsia import *\n",
    "import os\n",
    "import dotenv"
   ]
  },
  {
   "cell_type": "markdown",
   "metadata": {},
   "source": [
    "### 1. load and massage the dataset"
   ]
  },
  {
   "cell_type": "code",
   "execution_count": null,
   "metadata": {},
   "outputs": [],
   "source": [
    "dotenv.load_dotenv()\n",
    "connection_string = f\"mssql+pymssql://@{os.getenv('HOSTNAME')}/{os.getenv('DATABASE')}\"\n",
    "engine = sqlalchemy.create_engine(connection_string)\n",
    "sql_string = f'''\n",
    "select\n",
    "    *\n",
    "from {os.getenv('DATABASE')}.{os.getenv('SCHEMA')}.rpt_preeclampsia\n",
    "'''\n",
    "dat = pd.read_sql(sql_string, con=engine)"
   ]
  },
  {
   "cell_type": "code",
   "execution_count": null,
   "metadata": {},
   "outputs": [],
   "source": [
    "dat_bp = pd.read_sql(blood_pressure_sql_string, con=engine)\n",
    "dat_vital = pd.read_sql(vital_sql_string, con=engine)\n",
    "dat_obs = pd.read_sql(obs_sql_string, con=engine)\n",
    "dat_preeclampsia = pd.read_sql(preeclampsia_sql_string, con=engine)\n",
    "dat_med = pd.read_sql(get_rx_sql_string, con=engine)\n",
    "dat_age = pd.read_sql(age_sql_string, con=engine)\n",
    "dat_age = dat_age.drop(columns=['gest_age_in_days']) # Prof Page found this problem!\n",
    "dat_race = pd.read_sql(race_sql_string, con=engine)"
   ]
  },
  {
   "cell_type": "code",
   "execution_count": null,
   "metadata": {},
   "outputs": [],
   "source": [
    "assert(all(dat_bp.BIRTHID==dat_vital.BIRTHID))\n",
    "assert(all(dat_bp.BIRTHID==dat_preeclampsia.BIRTHID))\n",
    "assert(all(dat_bp.BIRTHID==dat_age.BIRTHID))\n",
    "assert(all(dat_bp.BIRTHID==dat_race.BIRTHID))"
   ]
  },
  {
   "cell_type": "code",
   "execution_count": null,
   "metadata": {},
   "outputs": [],
   "source": [
    "# the preeclampsia label is not decided already in the sql query\n",
    "dat = pd.merge(left=dat_bp, right=dat_preeclampsia[['BIRTHID','preeclampsia_label']], left_on='BIRTHID', right_on='BIRTHID', how='left')\n",
    "dat = dat.rename(columns={'preeclampsia_label': 'diagnosis'})\n",
    "dat"
   ]
  },
  {
   "cell_type": "code",
   "execution_count": null,
   "metadata": {},
   "outputs": [],
   "source": [
    "dat.corrwith(dat['diagnosis'], method='spearman')"
   ]
  },
  {
   "cell_type": "code",
   "execution_count": null,
   "metadata": {},
   "outputs": [],
   "source": [
    "dat.diagnosis.value_counts()"
   ]
  },
  {
   "cell_type": "code",
   "execution_count": null,
   "metadata": {},
   "outputs": [],
   "source": [
    "# pivot the obs table\n",
    "dat_obs = dat_obs.pivot(columns=['RAW_OBSCLIN_NAME'], index='BIRTHID', values=['min_VALUE','max_VALUE','mean_VALUE','median_VALUE'])\n",
    "dat_obs.columns = [x.replace('VALUE', y) for x, y in dat_obs.columns.to_flat_index()]\n",
    "dat_obs"
   ]
  },
  {
   "cell_type": "code",
   "execution_count": null,
   "metadata": {},
   "outputs": [],
   "source": [
    "dat_vital.isna().mean()"
   ]
  },
  {
   "cell_type": "code",
   "execution_count": null,
   "metadata": {},
   "outputs": [],
   "source": [
    "dat_vital"
   ]
  },
  {
   "cell_type": "code",
   "execution_count": null,
   "metadata": {},
   "outputs": [],
   "source": [
    "# fill a few percentage of BMI that's nan with availabel weight data\n",
    "for measure in ['max','min','mean','median']:\n",
    "    tmp = dat_vital[f'{measure}_WEIGHT'] / dat_vital['mean_HEIGHT'] ** 2 * 705\n",
    "    dat_vital[f'{measure}_BMI'] = np.where(dat_vital[f'{measure}_BMI'].isna(), tmp, dat_vital[f'{measure}_BMI'])"
   ]
  },
  {
   "cell_type": "code",
   "execution_count": null,
   "metadata": {},
   "outputs": [],
   "source": [
    "dat_vital"
   ]
  },
  {
   "cell_type": "code",
   "execution_count": null,
   "metadata": {},
   "outputs": [],
   "source": [
    "# now merge the obs, vital, age and race table\n",
    "dat = pd.merge(left=dat, right=dat_obs, left_on='BIRTHID', right_on='BIRTHID', how='left')\n",
    "dat = pd.merge(left=dat, right=dat_vital, left_on='BIRTHID', right_on='BIRTHID', how='left')\n",
    "dat = pd.merge(left=dat, right=dat_age, left_on='BIRTHID', right_on='BIRTHID', how='left')\n",
    "dat = pd.merge(left=dat, right=dat_race, left_on='BIRTHID', right_on='BIRTHID', how='left')\n",
    "dat.shape"
   ]
  },
  {
   "cell_type": "code",
   "execution_count": null,
   "metadata": {},
   "outputs": [],
   "source": [
    "dat.head()"
   ]
  },
  {
   "cell_type": "code",
   "execution_count": null,
   "metadata": {},
   "outputs": [],
   "source": [
    "# lastly the medication table\n",
    "med_col = list(dat_med.columns)\n",
    "med_col.remove('BIRTHID')\n",
    "dat_med"
   ]
  },
  {
   "cell_type": "code",
   "execution_count": null,
   "metadata": {},
   "outputs": [],
   "source": [
    "dat = pd.merge(left=dat, right=dat_med, left_on='BIRTHID', right_on='BIRTHID', how='left')\n",
    "dat"
   ]
  },
  {
   "cell_type": "code",
   "execution_count": null,
   "metadata": {},
   "outputs": [],
   "source": [
    "for col in med_col:\n",
    "    dat[col] = dat[col].fillna(0)"
   ]
  },
  {
   "cell_type": "code",
   "execution_count": null,
   "metadata": {},
   "outputs": [],
   "source": [
    "# the black and non-black rate is different now\n",
    "dat[dat.is_black==1].diagnosis.value_counts(normalize=True), dat[dat.is_black==0].diagnosis.value_counts(normalize=True)"
   ]
  },
  {
   "cell_type": "markdown",
   "metadata": {},
   "source": [
    "### 2. take a look at the Nans"
   ]
  },
  {
   "cell_type": "code",
   "execution_count": null,
   "metadata": {},
   "outputs": [],
   "source": [
    "[(x,y) for x,y in zip(dat.columns.to_list(), dat.isna().mean().to_list())]"
   ]
  },
  {
   "cell_type": "code",
   "execution_count": null,
   "metadata": {},
   "outputs": [],
   "source": [
    "dat.corrwith(dat['diagnosis'], method='spearman').sort_values().tail(50)"
   ]
  },
  {
   "cell_type": "markdown",
   "metadata": {},
   "source": [
    "### 3. build the model"
   ]
  },
  {
   "cell_type": "code",
   "execution_count": null,
   "metadata": {},
   "outputs": [],
   "source": [
    "from sklearn.ensemble import RandomForestClassifier\n",
    "from sklearn.model_selection import GridSearchCV\n",
    "from sklearn.impute import SimpleImputer, KNNImputer\n",
    "from sklearn.pipeline import Pipeline\n",
    "from sklearn.preprocessing import StandardScaler"
   ]
  },
  {
   "cell_type": "code",
   "execution_count": null,
   "metadata": {},
   "outputs": [],
   "source": [
    "pipeline = Pipeline([\n",
    "    ('scale', StandardScaler()),\n",
    "    ('imputer', SimpleImputer(strategy='mean')),\n",
    "    ('clf',RandomForestClassifier(class_weight='balanced'))\n",
    "])"
   ]
  },
  {
   "cell_type": "code",
   "execution_count": null,
   "metadata": {},
   "outputs": [],
   "source": [
    "# define the specificity\n",
    "from sklearn.metrics import recall_score, make_scorer\n",
    "from copy import deepcopy\n",
    "\n",
    "specificity = make_scorer(recall_score, pos_label=0)"
   ]
  },
  {
   "cell_type": "code",
   "execution_count": null,
   "metadata": {},
   "outputs": [],
   "source": [
    "clf = GridSearchCV(pipeline,\n",
    "                #    param_grid={'clf__min_samples_split': [20,50,100,120,150,], 'imputer__n_neighbors':[5,10,30,50,70,100]},\n",
    "                   param_grid={'clf__min_samples_split': [20,50,100,120,150]}, \n",
    "                   verbose=3,\n",
    "                   scoring={'f1':'f1',\n",
    "                            'roc_auc':'roc_auc',\n",
    "                            'sensitivity':'recall',\n",
    "                            'precision':'precision',\n",
    "                            'specificity': specificity},\n",
    "                   refit='roc_auc')"
   ]
  },
  {
   "cell_type": "code",
   "execution_count": null,
   "metadata": {},
   "outputs": [],
   "source": [
    "X = dat.drop(columns=['BIRTHID','diagnosis'])\n",
    "cols_todrop = []\n",
    "for col in X.columns:\n",
    "    if X[col].isna().mean() > 0.3:  cols_todrop.append(col)\n",
    "print('dropping these columns:', cols_todrop)\n",
    "X = X.drop(columns=cols_todrop)\n",
    "y = dat['diagnosis']\n",
    "clf.fit(X, y)\n",
    "clf_baseline = deepcopy(clf)"
   ]
  },
  {
   "cell_type": "code",
   "execution_count": null,
   "metadata": {},
   "outputs": [],
   "source": [
    "clf.best_params_, clf.best_score_"
   ]
  },
  {
   "cell_type": "markdown",
   "metadata": {},
   "source": [
    "### 4. initial look at feature importance"
   ]
  },
  {
   "cell_type": "code",
   "execution_count": null,
   "metadata": {},
   "outputs": [],
   "source": [
    "import shap"
   ]
  },
  {
   "cell_type": "code",
   "execution_count": null,
   "metadata": {},
   "outputs": [],
   "source": [
    "clf_baseline.best_estimator_"
   ]
  },
  {
   "cell_type": "code",
   "execution_count": null,
   "metadata": {},
   "outputs": [],
   "source": [
    "X_processed = clf_baseline.best_estimator_[:2].transform(X)"
   ]
  },
  {
   "cell_type": "code",
   "execution_count": null,
   "metadata": {},
   "outputs": [],
   "source": [
    "explainer = shap.TreeExplainer(clf_baseline.best_estimator_[2])\n",
    "shap_values = explainer(X_processed, check_additivity=True)"
   ]
  },
  {
   "cell_type": "code",
   "execution_count": null,
   "metadata": {},
   "outputs": [],
   "source": [
    "shap_values.values = shap_values.values[:,:,1]\n",
    "shap_values.feature_names = X.columns.to_list()\n",
    "shap.plots.beeswarm(shap_values=shap_values, max_display=30)"
   ]
  }
 ],
 "metadata": {
  "kernelspec": {
   "display_name": ".nlp",
   "language": "python",
   "name": "python3"
  },
  "language_info": {
   "codemirror_mode": {
    "name": "ipython",
    "version": 3
   },
   "file_extension": ".py",
   "mimetype": "text/x-python",
   "name": "python",
   "nbconvert_exporter": "python",
   "pygments_lexer": "ipython3",
   "version": "3.11.0"
  }
 },
 "nbformat": 4,
 "nbformat_minor": 2
}
