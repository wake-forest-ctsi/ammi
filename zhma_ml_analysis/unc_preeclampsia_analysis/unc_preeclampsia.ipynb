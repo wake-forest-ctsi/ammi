{
 "cells": [
  {
   "cell_type": "code",
   "execution_count": 1,
   "metadata": {},
   "outputs": [],
   "source": [
    "import pandas as pd\n",
    "import numpy as np\n",
    "import sqlalchemy\n",
    "from sqlqueries_unc_preeclampsia import *"
   ]
  },
  {
   "cell_type": "markdown",
   "metadata": {},
   "source": [
    "### 1. load and massage the dataset"
   ]
  },
  {
   "cell_type": "code",
   "execution_count": 2,
   "metadata": {},
   "outputs": [],
   "source": [
    "connection_string = os.getenv(CONN_STRING)\n",
    "engine = sqlalchemy.create_engine(connection_string)"
   ]
  },
  {
   "cell_type": "code",
   "execution_count": 3,
   "metadata": {},
   "outputs": [],
   "source": [
    "dat_bp = pd.read_sql(blood_pressure_sql_string, con=engine)\n",
    "dat_vital = pd.read_sql(vital_sql_string, con=engine)\n",
    "dat_obs = pd.read_sql(obs_sql_string, con=engine)\n",
    "dat_preeclampsia = pd.read_sql(preeclampsia_sql_string, con=engine)\n",
    "dat_med = pd.read_sql(get_rx_sql_string, con=engine)\n",
    "dat_age = pd.read_sql(age_sql_string, con=engine)\n",
    "dat_race = pd.read_sql(race_sql_string, con=engine)"
   ]
  },
  {
   "cell_type": "code",
   "execution_count": null,
   "metadata": {},
   "outputs": [],
   "source": [
    "# pivot the bp table before doing the join\n",
    "dat_bp = dat_bp.pivot(columns='time_period', index='BIRTHID', values='bp_cat')\n",
    "dat_bp.columns = ['before_20wk','20wk_delivery','during_delivery','90d_after_delivery']\n",
    "dat_bp = dat_bp.reset_index()\n",
    "dat_bp.drop(columns=['BIRTHID'])  # hide the birthid"
   ]
  },
  {
   "cell_type": "code",
   "execution_count": null,
   "metadata": {},
   "outputs": [],
   "source": [
    "dat = pd.merge(left=dat_preeclampsia, right=dat_bp, left_on='BIRTHID', right_on='BIRTHID', how='left')\n",
    "dat.drop(columns=['BIRTHID'])"
   ]
  },
  {
   "cell_type": "code",
   "execution_count": null,
   "metadata": {},
   "outputs": [],
   "source": [
    "# the preeclampsia lable is created either\n",
    "# 1. diagonsis code of O14 or O15\n",
    "# 2. high blood pressure in perieds 1-2-3, i.e. 20 weeks - 90 days after delivery AND some lab measurements\n",
    "dat['diagnosis_1'] = np.where(dat['earliest_diagnosis_date'].isna()==False, 1, 0)\n",
    "dat['diagnosis_2'] = np.where( (dat['earliest_lab_confirm_date'].isna()==False) & \\\n",
    "                               (dat['20wk_delivery'] + dat['during_delivery'] + dat['90d_after_delivery'] >= 1), 1, 0)\n",
    "dat['diagnosis'] = np.where(dat['diagnosis_1'] + dat['diagnosis_2'] > 0, 1, 0)\n",
    "dat = dat.drop(columns=['earliest_diagnosis_date','latest_diagnosis_date','earliest_lab_confirm_date','latest_lab_confirm_date', 'diagnosis_1', 'diagnosis_2'])\n",
    "dat.drop(columns=['BIRTHID'])"
   ]
  },
  {
   "cell_type": "code",
   "execution_count": null,
   "metadata": {},
   "outputs": [],
   "source": [
    "# the preeclampsia ratio seems somewhat high??\n",
    "dat.diagnosis.value_counts()"
   ]
  },
  {
   "cell_type": "code",
   "execution_count": 8,
   "metadata": {},
   "outputs": [],
   "source": [
    "# pivot the obs table\n",
    "dat_obs = dat_obs.pivot(columns=['RAW_OBSCLIN_NAME'], index='BIRTHID', values=['min_VALUE','max_VALUE','mean_VALUE','median_VALUE'])\n",
    "dat_obs.columns = [x.replace('VALUE', y) for x, y in dat_obs.columns.to_flat_index()]"
   ]
  },
  {
   "cell_type": "code",
   "execution_count": null,
   "metadata": {},
   "outputs": [],
   "source": [
    "dat_vital.isna().mean()"
   ]
  },
  {
   "cell_type": "code",
   "execution_count": null,
   "metadata": {},
   "outputs": [],
   "source": [
    "dat_vital.drop(columns=['BIRTHID'])"
   ]
  },
  {
   "cell_type": "code",
   "execution_count": 11,
   "metadata": {},
   "outputs": [],
   "source": [
    "# fill a few percentage of BMI that's nan with availabel weight data\n",
    "for measure in ['max','min','mean','median']:\n",
    "    tmp = dat_vital[f'{measure}_WEIGHT'] / dat_vital['mean_HEIGHT'] ** 2 * 705\n",
    "    dat_vital[f'{measure}_BMI'] = np.where(dat_vital[f'{measure}_BMI'].isna(), tmp, dat_vital[f'{measure}_BMI'])"
   ]
  },
  {
   "cell_type": "code",
   "execution_count": null,
   "metadata": {},
   "outputs": [],
   "source": [
    "dat_vital.drop(columns=['BIRTHID'])"
   ]
  },
  {
   "cell_type": "code",
   "execution_count": null,
   "metadata": {},
   "outputs": [],
   "source": [
    "# now merge the obs, vital, age and race table\n",
    "dat = pd.merge(left=dat, right=dat_obs, left_on='BIRTHID', right_on='BIRTHID', how='left')\n",
    "dat = pd.merge(left=dat, right=dat_vital, left_on='BIRTHID', right_on='BIRTHID', how='left')\n",
    "dat = pd.merge(left=dat, right=dat_age, left_on='BIRTHID', right_on='BIRTHID', how='left')\n",
    "dat = pd.merge(left=dat, right=dat_race, left_on='BIRTHID', right_on='BIRTHID', how='left')\n",
    "dat.shape"
   ]
  },
  {
   "cell_type": "code",
   "execution_count": null,
   "metadata": {},
   "outputs": [],
   "source": [
    "dat.drop(columns=['BIRTHID']).head()"
   ]
  },
  {
   "cell_type": "code",
   "execution_count": 15,
   "metadata": {},
   "outputs": [],
   "source": [
    "# lastly the medication table\n",
    "med_col = list(dat_med.columns)\n",
    "med_col.remove('BIRTHID')"
   ]
  },
  {
   "cell_type": "code",
   "execution_count": null,
   "metadata": {},
   "outputs": [],
   "source": [
    "dat = pd.merge(left=dat, right=dat_med, left_on='BIRTHID', right_on='BIRTHID', how='left')\n",
    "dat.drop(columns=['BIRTHID'])"
   ]
  },
  {
   "cell_type": "code",
   "execution_count": 17,
   "metadata": {},
   "outputs": [],
   "source": [
    "for col in med_col:\n",
    "    dat[col] = dat[col].fillna(0)"
   ]
  },
  {
   "cell_type": "code",
   "execution_count": null,
   "metadata": {},
   "outputs": [],
   "source": [
    "# the black and non-black rate is not extremely different!\n",
    "dat[dat.is_black==1].diagnosis.value_counts(normalize=True), dat[dat.is_black==0].diagnosis.value_counts(normalize=True)"
   ]
  },
  {
   "cell_type": "markdown",
   "metadata": {},
   "source": [
    "### 2. take a look at the Nans"
   ]
  },
  {
   "cell_type": "code",
   "execution_count": null,
   "metadata": {},
   "outputs": [],
   "source": [
    "dat.isna().mean().to_list()"
   ]
  },
  {
   "cell_type": "code",
   "execution_count": null,
   "metadata": {},
   "outputs": [],
   "source": [
    "dat.corrwith(dat['diagnosis'], method='spearman').sort_values().tail(50)"
   ]
  },
  {
   "cell_type": "markdown",
   "metadata": {},
   "source": [
    "### 3. build the model"
   ]
  },
  {
   "cell_type": "code",
   "execution_count": 21,
   "metadata": {},
   "outputs": [],
   "source": [
    "from sklearn.ensemble import RandomForestClassifier\n",
    "from sklearn.model_selection import GridSearchCV\n",
    "from sklearn.impute import SimpleImputer, KNNImputer\n",
    "from sklearn.pipeline import Pipeline\n",
    "from sklearn.preprocessing import StandardScaler"
   ]
  },
  {
   "cell_type": "code",
   "execution_count": 22,
   "metadata": {},
   "outputs": [],
   "source": [
    "pipeline = Pipeline([\n",
    "    ('scale', StandardScaler()),\n",
    "    ('imputer',KNNImputer()),\n",
    "    ('clf',RandomForestClassifier(class_weight='balanced'))\n",
    "])"
   ]
  },
  {
   "cell_type": "code",
   "execution_count": 23,
   "metadata": {},
   "outputs": [],
   "source": [
    "# define the specificity\n",
    "from sklearn.metrics import recall_score, make_scorer\n",
    "specificity = make_scorer(recall_score, pos_label=0)"
   ]
  },
  {
   "cell_type": "code",
   "execution_count": 24,
   "metadata": {},
   "outputs": [],
   "source": [
    "clf = GridSearchCV(pipeline,\n",
    "                   param_grid={'clf__min_samples_split': [5,10,20,50,100], 'imputer__n_neighbors':[5,10,30,50]},\n",
    "                   verbose=3,\n",
    "                   scoring={'f1':'f1',\n",
    "                            'roc_auc':'roc_auc',\n",
    "                            'sensitivity':'recall',\n",
    "                            'precision':'precision',\n",
    "                            'specificity': specificity},\n",
    "                   refit='roc_auc')"
   ]
  },
  {
   "cell_type": "code",
   "execution_count": null,
   "metadata": {},
   "outputs": [],
   "source": [
    "# X = dat.drop(columns=['BIRTHID','diagnosis','20wk_delivery','during_delivery','90d_after_delivery'])\n",
    "X = dat.drop(columns=['BIRTHID','diagnosis'])\n",
    "cols_todrop = []\n",
    "for col in X.columns:\n",
    "    if X[col].isna().mean() > 0.2:  cols_todrop.append(col)\n",
    "X = X.drop(columns=cols_todrop)\n",
    "y = dat['diagnosis']\n",
    "clf.fit(X, y)"
   ]
  },
  {
   "cell_type": "code",
   "execution_count": null,
   "metadata": {},
   "outputs": [],
   "source": [
    "clf.best_params_, clf.best_score_"
   ]
  },
  {
   "cell_type": "markdown",
   "metadata": {},
   "source": [
    "### 4. initial look at feature importance"
   ]
  },
  {
   "cell_type": "code",
   "execution_count": null,
   "metadata": {},
   "outputs": [],
   "source": [
    "import shap"
   ]
  },
  {
   "cell_type": "code",
   "execution_count": null,
   "metadata": {},
   "outputs": [],
   "source": [
    "clf.best_estimator_"
   ]
  },
  {
   "cell_type": "code",
   "execution_count": 29,
   "metadata": {},
   "outputs": [],
   "source": [
    "X_processed = clf.best_estimator_[:2].transform(X)"
   ]
  },
  {
   "cell_type": "code",
   "execution_count": 30,
   "metadata": {},
   "outputs": [],
   "source": [
    "explainer = shap.TreeExplainer(clf.best_estimator_[2])\n",
    "shap_values = explainer.shap_values(X_processed, check_additivity=False)"
   ]
  },
  {
   "cell_type": "code",
   "execution_count": null,
   "metadata": {},
   "outputs": [],
   "source": [
    "shap.summary_plot(shap_values[1], X_processed, max_display=30, feature_names=X.columns)"
   ]
  },
  {
   "cell_type": "markdown",
   "metadata": {},
   "source": [
    "### 5 remove the bpcat column"
   ]
  },
  {
   "cell_type": "code",
   "execution_count": null,
   "metadata": {},
   "outputs": [],
   "source": [
    "X = dat.drop(columns=['BIRTHID','diagnosis','20wk_delivery','during_delivery','90d_after_delivery'])\n",
    "# X = dat.drop(columns=['BIRTHID','diagnosis'])\n",
    "cols_todrop = []\n",
    "for col in X.columns:\n",
    "    if X[col].isna().mean() > 0.2:  cols_todrop.append(col)\n",
    "X = X.drop(columns=cols_todrop)\n",
    "y = dat['diagnosis']\n",
    "clf.fit(X, y)"
   ]
  },
  {
   "cell_type": "code",
   "execution_count": null,
   "metadata": {},
   "outputs": [],
   "source": [
    "clf.best_params_, clf.best_score_"
   ]
  },
  {
   "cell_type": "code",
   "execution_count": 35,
   "metadata": {},
   "outputs": [],
   "source": [
    "X_processed = clf.best_estimator_[:2].transform(X)\n",
    "explainer = shap.TreeExplainer(clf.best_estimator_[2])\n",
    "shap_values = explainer.shap_values(X_processed, check_additivity=False)"
   ]
  },
  {
   "cell_type": "code",
   "execution_count": null,
   "metadata": {},
   "outputs": [],
   "source": [
    "shap.summary_plot(shap_values[1], X_processed, max_display=30, feature_names=X.columns)"
   ]
  }
 ],
 "metadata": {
  "kernelspec": {
   "display_name": "splash",
   "language": "python",
   "name": "python3"
  },
  "language_info": {
   "codemirror_mode": {
    "name": "ipython",
    "version": 3
   },
   "file_extension": ".py",
   "mimetype": "text/x-python",
   "name": "python",
   "nbconvert_exporter": "python",
   "pygments_lexer": "ipython3",
   "version": "3.11.9"
  }
 },
 "nbformat": 4,
 "nbformat_minor": 2
}
