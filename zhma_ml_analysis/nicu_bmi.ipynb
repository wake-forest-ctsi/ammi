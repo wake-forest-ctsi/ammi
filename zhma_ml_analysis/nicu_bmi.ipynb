{
 "cells": [
  {
   "cell_type": "code",
   "execution_count": 1,
   "id": "ad06cc28-4b2d-4b0f-aa87-f682bb7487f3",
   "metadata": {},
   "outputs": [],
   "source": [
    "import pandas as pd\n",
    "import seaborn as sns\n",
    "from matplotlib import pyplot as plt\n",
    "import numpy as np\n",
    "from scipy.stats import ttest_ind"
   ]
  },
  {
   "cell_type": "code",
   "execution_count": 2,
   "id": "b132e794-9511-4374-af1b-f60e47494060",
   "metadata": {},
   "outputs": [],
   "source": [
    "dat = pd.read_csv('get_nicu_admission_05_16.csv')"
   ]
  },
  {
   "cell_type": "code",
   "execution_count": 3,
   "id": "856dbe78-579f-4446-8d84-b8c5115278a9",
   "metadata": {},
   "outputs": [
    {
     "name": "stdout",
     "output_type": "stream",
     "text": [
      "11404\n"
     ]
    }
   ],
   "source": [
    "# assemble bmi, if not measured then calculate from height/weight\n",
    "dat['bmi'] = np.where(dat.earliest_bmi.isna(), dat.computed_bmi, dat.earliest_bmi)\n",
    "print(len(dat))\n",
    "#dat.head()"
   ]
  },
  {
   "cell_type": "code",
   "execution_count": 4,
   "id": "4a5a44fe-3292-494d-ab23-e71dcf021791",
   "metadata": {},
   "outputs": [
    {
     "data": {
      "text/plain": [
       "6904"
      ]
     },
     "execution_count": 4,
     "metadata": {},
     "output_type": "execute_result"
    }
   ],
   "source": [
    "# select only nicu and bmi is not null\n",
    "dat_selected = dat[(dat.nicu_admission.isna()==False) & (dat.bmi.isna()==False)].copy()\n",
    "dat_selected['year'] = pd.to_datetime(dat.preg_end_date).dt.year\n",
    "len(dat_selected)"
   ]
  },
  {
   "cell_type": "code",
   "execution_count": 5,
   "id": "8c5377f8-219c-478e-93bc-d1a131a910b9",
   "metadata": {},
   "outputs": [
    {
     "data": {
      "text/plain": [
       "(0.0, 0.0)"
      ]
     },
     "execution_count": 5,
     "metadata": {},
     "output_type": "execute_result"
    }
   ],
   "source": [
    "# double check\n",
    "dat_selected.bmi.isna().mean(), dat_selected.nicu_admission.isna().mean()"
   ]
  },
  {
   "cell_type": "code",
   "execution_count": 6,
   "id": "ce9a3c79-6b89-4a07-bb02-f1ca61c4e312",
   "metadata": {},
   "outputs": [],
   "source": [
    "def bmi_group(x):\n",
    "    '''\n",
    "      convert bmi to groups\n",
    "    '''\n",
    "    if x < 18.5:\n",
    "        return 'underweight'\n",
    "    elif x < 25:\n",
    "        return 'healthy'\n",
    "    elif x < 30:\n",
    "        return 'overweight'\n",
    "    elif x < 35:\n",
    "        return 'obese_1'\n",
    "    elif x < 40:\n",
    "        return 'obese_2'\n",
    "    else:\n",
    "        return 'obese_3'"
   ]
  },
  {
   "cell_type": "code",
   "execution_count": 7,
   "id": "d9cfaf25-44dd-48e8-8d01-f2c352788a7a",
   "metadata": {},
   "outputs": [],
   "source": [
    "dat_selected['bmi_group'] = dat_selected['bmi'].apply(bmi_group)\n",
    "#dat_selected"
   ]
  },
  {
   "cell_type": "code",
   "execution_count": 8,
   "id": "c0045f93-c1f4-44dd-b099-1bdd59af2987",
   "metadata": {},
   "outputs": [
    {
     "name": "stdout",
     "output_type": "stream",
     "text": [
      "underweight count=175 nicu_count=15.0 ratio=0.08571428571428572 p=0.8108418401119706\n",
      "healthy count=2118 nicu_count=193.0 ratio=0.091123701605288 p=1.0\n",
      "overweight count=1834 nicu_count=154.0 ratio=0.08396946564885496 p=0.42817812118836085\n",
      "obese_1 count=1308 nicu_count=140.0 ratio=0.10703363914373089 p=0.1267668488551592\n",
      "obese_2 count=790 nicu_count=94.0 ratio=0.1189873417721519 p=0.025027363243245296\n",
      "obese_3 count=679 nicu_count=98.0 ratio=0.14432989690721648 p=7.642923160418171e-05\n"
     ]
    }
   ],
   "source": [
    "# get the values\n",
    "group_ref = dat_selected[dat_selected.bmi_group=='healthy'].nicu_admission.values\n",
    "for bmi_group in ['underweight','healthy','overweight','obese_1','obese_2','obese_3']:\n",
    "    group_compare = dat_selected[dat_selected.bmi_group==bmi_group].nicu_admission.values\n",
    "    p_val = ttest_ind(group_ref, group_compare).pvalue\n",
    "    print(f\"{bmi_group} count={len(group_compare)} nicu_count={group_compare.sum()} ratio={group_compare.mean()} p={p_val}\")"
   ]
  },
  {
   "cell_type": "code",
   "execution_count": 10,
   "id": "e0b13d80-4f9c-484d-8c46-9c71a3657318",
   "metadata": {},
   "outputs": [],
   "source": [
    "dat_selected['obesity'] = np.where(dat_selected.bmi >= 30, 'yes', 'no')\n",
    "#dat_selected.head()"
   ]
  },
  {
   "cell_type": "code",
   "execution_count": 11,
   "id": "0b693491-346e-40f2-8d60-707fc2717bde",
   "metadata": {},
   "outputs": [
    {
     "data": {
      "text/html": [
       "<div>\n",
       "<style scoped>\n",
       "    .dataframe tbody tr th:only-of-type {\n",
       "        vertical-align: middle;\n",
       "    }\n",
       "\n",
       "    .dataframe tbody tr th {\n",
       "        vertical-align: top;\n",
       "    }\n",
       "\n",
       "    .dataframe thead th {\n",
       "        text-align: right;\n",
       "    }\n",
       "</style>\n",
       "<table border=\"1\" class=\"dataframe\">\n",
       "  <thead>\n",
       "    <tr style=\"text-align: right;\">\n",
       "      <th></th>\n",
       "      <th>year</th>\n",
       "      <th>obesity</th>\n",
       "      <th>nicu_admission</th>\n",
       "      <th>percentage</th>\n",
       "    </tr>\n",
       "  </thead>\n",
       "  <tbody>\n",
       "    <tr>\n",
       "      <th>0</th>\n",
       "      <td>2019</td>\n",
       "      <td>no</td>\n",
       "      <td>0.0</td>\n",
       "      <td>0.868607</td>\n",
       "    </tr>\n",
       "    <tr>\n",
       "      <th>1</th>\n",
       "      <td>2019</td>\n",
       "      <td>no</td>\n",
       "      <td>1.0</td>\n",
       "      <td>0.131393</td>\n",
       "    </tr>\n",
       "    <tr>\n",
       "      <th>2</th>\n",
       "      <td>2019</td>\n",
       "      <td>yes</td>\n",
       "      <td>0.0</td>\n",
       "      <td>0.837241</td>\n",
       "    </tr>\n",
       "    <tr>\n",
       "      <th>3</th>\n",
       "      <td>2019</td>\n",
       "      <td>yes</td>\n",
       "      <td>1.0</td>\n",
       "      <td>0.162759</td>\n",
       "    </tr>\n",
       "    <tr>\n",
       "      <th>4</th>\n",
       "      <td>2020</td>\n",
       "      <td>no</td>\n",
       "      <td>0.0</td>\n",
       "      <td>0.932673</td>\n",
       "    </tr>\n",
       "    <tr>\n",
       "      <th>5</th>\n",
       "      <td>2020</td>\n",
       "      <td>no</td>\n",
       "      <td>1.0</td>\n",
       "      <td>0.067327</td>\n",
       "    </tr>\n",
       "    <tr>\n",
       "      <th>6</th>\n",
       "      <td>2020</td>\n",
       "      <td>yes</td>\n",
       "      <td>0.0</td>\n",
       "      <td>0.898821</td>\n",
       "    </tr>\n",
       "    <tr>\n",
       "      <th>7</th>\n",
       "      <td>2020</td>\n",
       "      <td>yes</td>\n",
       "      <td>1.0</td>\n",
       "      <td>0.101179</td>\n",
       "    </tr>\n",
       "    <tr>\n",
       "      <th>8</th>\n",
       "      <td>2021</td>\n",
       "      <td>no</td>\n",
       "      <td>0.0</td>\n",
       "      <td>0.924848</td>\n",
       "    </tr>\n",
       "    <tr>\n",
       "      <th>9</th>\n",
       "      <td>2021</td>\n",
       "      <td>no</td>\n",
       "      <td>1.0</td>\n",
       "      <td>0.075152</td>\n",
       "    </tr>\n",
       "    <tr>\n",
       "      <th>10</th>\n",
       "      <td>2021</td>\n",
       "      <td>yes</td>\n",
       "      <td>0.0</td>\n",
       "      <td>0.892650</td>\n",
       "    </tr>\n",
       "    <tr>\n",
       "      <th>11</th>\n",
       "      <td>2021</td>\n",
       "      <td>yes</td>\n",
       "      <td>1.0</td>\n",
       "      <td>0.107350</td>\n",
       "    </tr>\n",
       "  </tbody>\n",
       "</table>\n",
       "</div>"
      ],
      "text/plain": [
       "    year obesity  nicu_admission  percentage\n",
       "0   2019      no             0.0    0.868607\n",
       "1   2019      no             1.0    0.131393\n",
       "2   2019     yes             0.0    0.837241\n",
       "3   2019     yes             1.0    0.162759\n",
       "4   2020      no             0.0    0.932673\n",
       "5   2020      no             1.0    0.067327\n",
       "6   2020     yes             0.0    0.898821\n",
       "7   2020     yes             1.0    0.101179\n",
       "8   2021      no             0.0    0.924848\n",
       "9   2021      no             1.0    0.075152\n",
       "10  2021     yes             0.0    0.892650\n",
       "11  2021     yes             1.0    0.107350"
      ]
     },
     "execution_count": 11,
     "metadata": {},
     "output_type": "execute_result"
    }
   ],
   "source": [
    "# plot as a function of year\n",
    "# there're only 2 records for 2018, so remove them\n",
    "tmp = dat_selected[dat_selected.year>2018].groupby(['year','obesity'])['nicu_admission'].value_counts(normalize=True).rename('percentage').reset_index()\n",
    "tmp"
   ]
  },
  {
   "cell_type": "code",
   "execution_count": null,
   "id": "3be3f353-7d3f-469c-a9c7-b2c223a78c63",
   "metadata": {},
   "outputs": [],
   "source": [
    "sns.catplot(tmp[tmp.nicu_admission==1], x='year', y='percentage', hue='obesity', kind='bar')\n",
    "plt.ylabel('NICU admission rate')"
   ]
  },
  {
   "cell_type": "code",
   "execution_count": null,
   "id": "7c3cc1fc-b796-4bcf-a343-421625835e59",
   "metadata": {},
   "outputs": [],
   "source": [
    "# get BMI < 30 and >= 30 to compare with paper\n",
    "group1 = dat_selected[dat_selected.bmi >= 30].nicu_admission\n",
    "group2 = dat_selected[dat_selected.bmi < 30].nicu_admission\n",
    "print(ttest_ind(group_ref, group_compare).pvalue)\n",
    "(dat_selected[dat_selected.bmi < 30].nicu_admission.value_counts(),\n",
    "dat_selected[dat_selected.bmi >= 30].nicu_admission.value_counts())"
   ]
  }
 ],
 "metadata": {
  "kernelspec": {
   "display_name": "Python 3 (ipykernel)",
   "language": "python",
   "name": "python3"
  },
  "language_info": {
   "codemirror_mode": {
    "name": "ipython",
    "version": 3
   },
   "file_extension": ".py",
   "mimetype": "text/x-python",
   "name": "python",
   "nbconvert_exporter": "python",
   "pygments_lexer": "ipython3",
   "version": "3.11.9"
  }
 },
 "nbformat": 4,
 "nbformat_minor": 5
}
