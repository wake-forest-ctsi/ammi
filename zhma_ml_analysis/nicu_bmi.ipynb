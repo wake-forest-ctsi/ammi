{
 "cells": [
  {
   "cell_type": "code",
   "execution_count": null,
   "id": "ad06cc28-4b2d-4b0f-aa87-f682bb7487f3",
   "metadata": {},
   "outputs": [],
   "source": [
    "import os\n",
    "\n",
    "from matplotlib import pyplot as plt\n",
    "import numpy as np\n",
    "import pandas as pd\n",
    "from scipy.stats import ttest_ind\n",
    "import seaborn as sns"
   ]
  },
  {
   "cell_type": "code",
   "execution_count": null,
   "id": "fea334b2",
   "metadata": {},
   "outputs": [],
   "source": [
    "import sqlalchemy\n",
    "\n",
    "engine = sqlalchemy.create_engine(os.getenv('SQLALCHEMY_CONNECTION_STRING'))\n",
    "with open('get_nicu_bmi.sql') as sql_fh:\n",
    "    sql = sql_fh.read()\n",
    "\n",
    "dat = pd.read_sql(sql,con=engine)"
   ]
  },
  {
   "cell_type": "code",
   "execution_count": null,
   "id": "b132e794-9511-4374-af1b-f60e47494060",
   "metadata": {},
   "outputs": [],
   "source": [
    "dat = pd.read_csv('get_nicu_admission_05_16.csv')"
   ]
  },
  {
   "cell_type": "code",
   "execution_count": null,
   "id": "856dbe78-579f-4446-8d84-b8c5115278a9",
   "metadata": {},
   "outputs": [],
   "source": [
    "# assemble bmi, if not measured then calculate from height/weight\n",
    "dat['bmi'] = np.where(dat.earliest_bmi.isna(), dat.computed_bmi, dat.earliest_bmi)\n",
    "print(len(dat))\n",
    "#dat.head()"
   ]
  },
  {
   "cell_type": "code",
   "execution_count": null,
   "id": "4a5a44fe-3292-494d-ab23-e71dcf021791",
   "metadata": {},
   "outputs": [],
   "source": [
    "# select only nicu and bmi is not null\n",
    "dat_selected = dat[(dat.nicu_admission.isna()==False) & (dat.bmi.isna()==False)].copy()\n",
    "dat_selected['year'] = pd.to_datetime(dat.preg_end_date).dt.year\n",
    "len(dat_selected)"
   ]
  },
  {
   "cell_type": "code",
   "execution_count": null,
   "id": "8c5377f8-219c-478e-93bc-d1a131a910b9",
   "metadata": {},
   "outputs": [],
   "source": [
    "# double check\n",
    "dat_selected.bmi.isna().mean(), dat_selected.nicu_admission.isna().mean()"
   ]
  },
  {
   "cell_type": "code",
   "execution_count": null,
   "id": "ce9a3c79-6b89-4a07-bb02-f1ca61c4e312",
   "metadata": {},
   "outputs": [],
   "source": [
    "def bmi_group(x):\n",
    "    '''\n",
    "      convert bmi to groups\n",
    "    '''\n",
    "    if x < 18.5:\n",
    "        return 'underweight'\n",
    "    elif x < 25:\n",
    "        return 'healthy'\n",
    "    elif x < 30:\n",
    "        return 'overweight'\n",
    "    elif x < 35:\n",
    "        return 'obese_1'\n",
    "    elif x < 40:\n",
    "        return 'obese_2'\n",
    "    else:\n",
    "        return 'obese_3'"
   ]
  },
  {
   "cell_type": "code",
   "execution_count": null,
   "id": "d9cfaf25-44dd-48e8-8d01-f2c352788a7a",
   "metadata": {},
   "outputs": [],
   "source": [
    "dat_selected['bmi_group'] = dat_selected['bmi'].apply(bmi_group)\n",
    "# dat_selected"
   ]
  },
  {
   "cell_type": "code",
   "execution_count": null,
   "id": "c0045f93-c1f4-44dd-b099-1bdd59af2987",
   "metadata": {},
   "outputs": [],
   "source": [
    "# get the values\n",
    "group_ref = dat_selected[dat_selected.bmi_group=='healthy'].nicu_admission.values\n",
    "for bmi_group in ['underweight','healthy','overweight','obese_1','obese_2','obese_3']:\n",
    "    group_compare = dat_selected[dat_selected.bmi_group==bmi_group].nicu_admission.values\n",
    "    p_val = ttest_ind(group_ref, group_compare).pvalue\n",
    "    print(f\"{bmi_group} count={len(group_compare)} nicu_count={group_compare.sum()} ratio={group_compare.mean()} p={p_val}\")"
   ]
  },
  {
   "cell_type": "code",
   "execution_count": null,
   "id": "e0b13d80-4f9c-484d-8c46-9c71a3657318",
   "metadata": {},
   "outputs": [],
   "source": [
    "dat_selected['obesity'] = np.where(dat_selected.bmi >= 30, 'yes', 'no')\n",
    "#dat_selected.head()"
   ]
  },
  {
   "cell_type": "code",
   "execution_count": null,
   "id": "0b693491-346e-40f2-8d60-707fc2717bde",
   "metadata": {},
   "outputs": [],
   "source": [
    "# plot as a function of year\n",
    "# there're only 2 records for 2018, so remove them\n",
    "tmp = dat_selected[dat_selected.year>2018].groupby(['year','obesity'])['nicu_admission'].value_counts(normalize=True).rename('percentage').reset_index()\n",
    "tmp"
   ]
  },
  {
   "cell_type": "code",
   "execution_count": null,
   "id": "3be3f353-7d3f-469c-a9c7-b2c223a78c63",
   "metadata": {},
   "outputs": [],
   "source": [
    "sns.catplot(tmp[tmp.nicu_admission==1], x='year', y='percentage', hue='obesity', kind='bar')\n",
    "plt.ylabel('NICU admission rate')"
   ]
  },
  {
   "cell_type": "code",
   "execution_count": null,
   "id": "7c3cc1fc-b796-4bcf-a343-421625835e59",
   "metadata": {},
   "outputs": [],
   "source": [
    "# get BMI < 30 and >= 30 to compare with paper\n",
    "group1 = dat_selected[dat_selected.bmi >= 30].nicu_admission\n",
    "group2 = dat_selected[dat_selected.bmi < 30].nicu_admission\n",
    "print(ttest_ind(group_ref, group_compare).pvalue)\n",
    "(dat_selected[dat_selected.bmi < 30].nicu_admission.value_counts(),\n",
    "dat_selected[dat_selected.bmi >= 30].nicu_admission.value_counts())"
   ]
  }
 ],
 "metadata": {
  "kernelspec": {
   "display_name": "Python 3 (ipykernel)",
   "language": "python",
   "name": "python3"
  },
  "language_info": {
   "codemirror_mode": {
    "name": "ipython",
    "version": 3
   },
   "file_extension": ".py",
   "mimetype": "text/x-python",
   "name": "python",
   "nbconvert_exporter": "python",
   "pygments_lexer": "ipython3",
   "version": "3.10.12"
  }
 },
 "nbformat": 4,
 "nbformat_minor": 5
}
